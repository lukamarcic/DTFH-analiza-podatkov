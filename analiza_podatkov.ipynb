{
 "cells": [
  {
   "cell_type": "markdown",
   "metadata": {},
   "source": [
    "***\n",
    "\n",
    "# **Analiza podatkov podcasta DTFH**\n",
    "\n",
    "***\n"
   ]
  },
  {
   "cell_type": "markdown",
   "metadata": {},
   "source": [
    "## Uvod"
   ]
  },
  {
   "cell_type": "markdown",
   "metadata": {},
   "source": [
    "Duncan Trussell Family Hour (DTFH skrajšano) je podcast ameriškega avtorja Duncana Trussella, ki se ne preveč resno ukvarja s tematikami moderne duhovnosti. Gostje posameznih epizod so lahko vse od novinarjev, komediantov in glasbenikov do budističnih gurujev, psihoterapevtov ter izvajalcev poganskih spiritualnih obredov. Posamezna epizoda običajno poteka kot prost pogovor med Duncanom in njegovim gostom (ali gosti, v primeru ko se mu v eter pridruži več kot ena oseba). Pogoste tematike obsegajo življenske anekdote, mnenja o spiritualnosti, raznorazne pogovore o meditaciji ter uporabo halucinogenih psihoaktivnih substanc v namen spoznavanja sebe in sveta okoli nas.\n",
    "\n",
    "V tem dokumentu bom analiziral nekatere podatke, ki sem jih zajel iz avtorjeve spletne strani ([DTFH](http://www.duncantrussell.com/episodes)). Začnimo najprej s potrebnim uvozom python paketa pandas, s katerim bom analizo izvajal, ter dokumenta DTFH.csv, v katerem so zbrani podatki posameznih epizod, potem pa si oglejmo kako izgledajo naši surovi podatki:"
   ]
  },
  {
   "cell_type": "code",
   "execution_count": null,
   "metadata": {},
   "outputs": [],
   "source": [
    "# Importanje pandas in dsv datoteke\n",
    "import pandas as pd\n",
    "podcasti = pd.read_csv('C:/faks/programiranje 1/DTFH-analiza-podatkov/DTFH.csv')\n",
    "pd.options.display.max_rows = 20"
   ]
  },
  {
   "cell_type": "code",
   "execution_count": null,
   "metadata": {},
   "outputs": [],
   "source": [
    "# Ogled surovih podatkov\n",
    "podcasti"
   ]
  },
  {
   "cell_type": "markdown",
   "metadata": {},
   "source": [
    "## Trendi objavitev in trajanja epizod"
   ]
  },
  {
   "cell_type": "markdown",
   "metadata": {},
   "source": [
    "### Povprečno trajanje epizode"
   ]
  },
  {
   "cell_type": "markdown",
   "metadata": {},
   "source": [
    "Začnimo z izračunom povprečne dolžine epizode podcasta. Ker je v csv datoteki dolžina napisana v sekundah (saj je to format, v katerem je zapisana na itunesih) definirajmo še pomožno funkcijo, ki nam bo to dolžino zapisala v bolj predstavljivi obliki (ure, minute, sekunde)."
   ]
  },
  {
   "cell_type": "code",
   "execution_count": null,
   "metadata": {},
   "outputs": [],
   "source": [
    "# Pomožna funkcija ter dodajanje novega stolpca v tabelo.\n",
    "def sekunde_v_ure(n):\n",
    "    h = (n // 3600)\n",
    "    min = ((n // 60) - h * 60)\n",
    "    sec = (n - 60 * min - 3600 * h)\n",
    "    return (h, min, sec)\n",
    "\n",
    "podcasti['dolzina_h'] = (podcasti.dolzina).apply(sekunde_v_ure)\n",
    "podcasti"
   ]
  },
  {
   "cell_type": "code",
   "execution_count": null,
   "metadata": {},
   "outputs": [],
   "source": [
    "# Izračun povprečja dolžine\n",
    "pov_dolzina = round((podcasti.dolzina).mean())\n",
    "print(sekunde_v_ure(pov_dolzina))"
   ]
  },
  {
   "cell_type": "markdown",
   "metadata": {},
   "source": [
    "Povprečna dolžina epizode je torej 1h 34min."
   ]
  },
  {
   "cell_type": "markdown",
   "metadata": {},
   "source": [
    "### Razporeditev epizod glede na dolžino"
   ]
  },
  {
   "cell_type": "markdown",
   "metadata": {},
   "source": [
    "Poglejmo si še koliko epizod je krajših od ene ure, koliko jih je med eno in dvema urama ter koliko jih je daljših od dveh ur."
   ]
  },
  {
   "cell_type": "code",
   "execution_count": null,
   "metadata": {},
   "outputs": [],
   "source": [
    "#Vse epizode razvrščene po dolžini\n",
    "rezina_dolzin = (podcasti[['naslov', 'dolzina']]).copy()\n",
    "rezina_dolzin['dolzina_h'] = (podcasti.dolzina).apply(sekunde_v_ure)\n",
    "rezina_dolzin.sort_values('dolzina')"
   ]
  },
  {
   "cell_type": "code",
   "execution_count": null,
   "metadata": {},
   "outputs": [],
   "source": [
    "#Epizode krajše od 1 ure\n",
    "rezina_dolzin_kratke = rezina_dolzin[rezina_dolzin.dolzina < 3600]\n",
    "rezina_dolzin_kratke.sort_values('dolzina')"
   ]
  },
  {
   "cell_type": "code",
   "execution_count": null,
   "metadata": {},
   "outputs": [],
   "source": [
    "#Epizode med 1 in 2 urama\n",
    "rezina_dolzin_pov = (rezina_dolzin[(rezina_dolzin.dolzina >= 3600)])[(rezina_dolzin.dolzina < 7200)]\n",
    "rezina_dolzin_pov.sort_values('dolzina')"
   ]
  },
  {
   "cell_type": "code",
   "execution_count": null,
   "metadata": {},
   "outputs": [],
   "source": [
    "#Epizode daljše od 2 ur\n",
    "rezina_dolzin_dolge = rezina_dolzin[rezina_dolzin.dolzina >= 7200]\n",
    "rezina_dolzin_dolge.sort_values('dolzina')"
   ]
  },
  {
   "cell_type": "code",
   "execution_count": null,
   "metadata": {},
   "outputs": [],
   "source": [
    "#Preštete zgornje skupine epizod\n",
    "st_kratkih = len(rezina_dolzin_kratke.index)\n",
    "st_pov = len(rezina_dolzin_pov.index)\n",
    "st_dolgih = len(rezina_dolzin_dolge.index)\n",
    "print(st_kratkih, st_pov, st_dolgih)"
   ]
  },
  {
   "cell_type": "markdown",
   "metadata": {},
   "source": [
    "Krajših od ene ure je torej le 7 epizod, daljših od dveh ur pa 57, s tem, da je najdaljša dolga več kot tri ure. Velika večina epizod (336) pa je dolgim nekaj med eno in dvema urama.\n",
    "\n"
   ]
  },
  {
   "cell_type": "markdown",
   "metadata": {},
   "source": [
    "### Število epizod po mesecih in letih"
   ]
  },
  {
   "cell_type": "markdown",
   "metadata": {},
   "source": [
    "Poglejmo si kdaj so bile epizode objavljene. V prvotni tabeli so časi objave napisani do dneva in celo ure natačno. Relevanten podatek bo kvečjemu katerega meseca in katerega leta je izšla epizoda, zatorej oblikujmo najprej funkciji, ki nam podata mesec in leto objave."
   ]
  },
  {
   "cell_type": "code",
   "execution_count": null,
   "metadata": {},
   "outputs": [],
   "source": [
    "#Definicija pomožne funkcije za mesece ter dodajanje stolpca \n",
    "def pretvori_v_mesece(str):\n",
    "    return str[7:-8]\n",
    "\n",
    "podcasti['mesec'] = (podcasti.datum).apply(pretvori_v_mesece)\n",
    "podcasti"
   ]
  },
  {
   "cell_type": "code",
   "execution_count": null,
   "metadata": {},
   "outputs": [],
   "source": [
    "#Definicija pomožne funkcije za leto ter dodajanje stolpca\n",
    "def pretvori_v_leta(str):\n",
    "    return str[4:]\n",
    "\n",
    "podcasti['leto'] = (podcasti.mesec).apply(pretvori_v_leta)\n",
    "podcasti\n"
   ]
  },
  {
   "cell_type": "markdown",
   "metadata": {},
   "source": [
    "Oglejmo si sedaj graf, koliko epizod je bilo objavljenih v posameznem letu."
   ]
  },
  {
   "cell_type": "code",
   "execution_count": null,
   "metadata": {},
   "outputs": [],
   "source": [
    "#Graf epizod po letih\n",
    "%matplotlib inline\n",
    "podcasti_leta = podcasti.groupby('leto').size()\n",
    "graf_epizode_po_letih = podcasti_leta.plot.bar()\n",
    "graf_epizode_po_letih"
   ]
  },
  {
   "cell_type": "markdown",
   "metadata": {},
   "source": [
    "Kot vidimo izide v povprečnem letu nekaj več kot 40 epizod. Podatki za leti 2013 in 2022 so nepopolni (večina epizod iz leta 2013 manjka, leto 2022 pa se je ravnokar začelo). Izjema je leto 2021 ko je izšlo skoraj 70 epizod. Morda je vzrok za to Covid 19. To hipotezo lahko podpremo/ovržemo z analizo izdanih epizod po mesecih, kjer se bo jasneje vidilo kdaj se je število izdanih epizod začelo večati."
   ]
  },
  {
   "cell_type": "code",
   "execution_count": null,
   "metadata": {},
   "outputs": [],
   "source": [
    "%matplotlib inline\n",
    "podcasti_meseci = (podcasti[::-1]).groupby('mesec', sort= False).size()\n",
    "graf_epizode_po_mesecih = podcasti_meseci.plot()\n",
    "graf_epizode_po_mesecih"
   ]
  },
  {
   "cell_type": "markdown",
   "metadata": {},
   "source": [
    "Kot vidimo noben mesec ne izstopa posebaj. Omembe vredno je da ni bilo meseca v zadnjih osmih letih, v katerem nista bili izdani vsaj dve epizodi podcasta. Število epizod se je začelo večati drugo polovico leta 2020 in potem ostalo visoko celo leto 2021."
   ]
  },
  {
   "cell_type": "markdown",
   "metadata": {},
   "source": [
    "### Spreminjanje trajanja epizod skozi leta"
   ]
  },
  {
   "cell_type": "markdown",
   "metadata": {},
   "source": [
    "Zadnja stvari, ki si jo bomo ogledali je kako se je spreminjala povprečna dolžina epizod skozi leta obstoja podcasta. Po občutki bi predvideval, da se epizode v povprečju daljšajo."
   ]
  },
  {
   "cell_type": "markdown",
   "metadata": {},
   "source": [
    "## Analiza gostov"
   ]
  },
  {
   "cell_type": "markdown",
   "metadata": {},
   "source": [
    "## Analiza opisov"
   ]
  },
  {
   "cell_type": "markdown",
   "metadata": {},
   "source": [
    "## Eksplicitnost"
   ]
  },
  {
   "cell_type": "markdown",
   "metadata": {},
   "source": [
    "Kot zadnjo zanimivost si oglejmo kako pogosto itunes označi epizode kot \"eksplicitne\"."
   ]
  },
  {
   "cell_type": "code",
   "execution_count": null,
   "metadata": {},
   "outputs": [],
   "source": [
    "podcasti.groupby('eksplicitnost').size()"
   ]
  },
  {
   "cell_type": "markdown",
   "metadata": {},
   "source": [
    "Kot kaže je le 7 epizod označenih kot eksplicitne. Ker jih je tako malo, lahko pogledamo katere natančno to so."
   ]
  },
  {
   "cell_type": "code",
   "execution_count": null,
   "metadata": {},
   "outputs": [],
   "source": [
    "rezina_eks = (podcasti[['naslov', 'eksplicitnost']]).copy()\n",
    "eksplicitne_epizode = rezina_eks[rezina_eks.eksplicitnost == 'yes']\n",
    "eksplicitne_epizode"
   ]
  },
  {
   "cell_type": "markdown",
   "metadata": {},
   "source": [
    "## Zaključek"
   ]
  }
 ],
 "metadata": {
  "interpreter": {
   "hash": "c426988735db15dd42e28fbe844e11d757c18a6bcf965a6758654cee5b86e14f"
  },
  "kernelspec": {
   "display_name": "Python 3.10.1 64-bit",
   "language": "python",
   "name": "python3"
  },
  "language_info": {
   "codemirror_mode": {
    "name": "ipython",
    "version": 3
   },
   "file_extension": ".py",
   "mimetype": "text/x-python",
   "name": "python",
   "nbconvert_exporter": "python",
   "pygments_lexer": "ipython3",
   "version": "3.10.1"
  },
  "orig_nbformat": 4
 },
 "nbformat": 4,
 "nbformat_minor": 2
}
